{
 "cells": [
  {
   "cell_type": "code",
   "execution_count": 18,
   "id": "9e802590",
   "metadata": {},
   "outputs": [],
   "source": [
    "import numpy as np\n",
    "from sklearn.neural_network import MLPRegressor\n"
   ]
  },
  {
   "cell_type": "code",
   "execution_count": 19,
   "id": "f0713d72",
   "metadata": {},
   "outputs": [],
   "source": [
    "X= np.array([[0,0],[0,1],[1,0],[1,1]])\n",
    "Y= np.array([0,0,1,0])"
   ]
  },
  {
   "cell_type": "code",
   "execution_count": 24,
   "id": "4bb4bbd7",
   "metadata": {},
   "outputs": [
    {
     "data": {
      "text/plain": [
       "array([0.27646177, 0.86611072, 0.12576808, 0.71541703])"
      ]
     },
     "execution_count": 24,
     "metadata": {},
     "output_type": "execute_result"
    }
   ],
   "source": [
    "clf = MLPRegressor(hidden_layer_sizes=(1, ),activation='identity',max_iter=5000)\n",
    "clf.fit(X,Y)\n",
    "clf.predict(X)"
   ]
  },
  {
   "cell_type": "code",
   "execution_count": 25,
   "id": "1b32fc11",
   "metadata": {},
   "outputs": [
    {
     "data": {
      "text/plain": [
       "[array([[-0.1692683 ],\n",
       "        [ 0.66232949]]),\n",
       " array([[0.89026528]])]"
      ]
     },
     "execution_count": 25,
     "metadata": {},
     "output_type": "execute_result"
    }
   ],
   "source": [
    "clf.coefs_"
   ]
  },
  {
   "cell_type": "code",
   "execution_count": null,
   "id": "c93347ba",
   "metadata": {},
   "outputs": [],
   "source": []
  },
  {
   "cell_type": "code",
   "execution_count": 39,
   "id": "c467aee4",
   "metadata": {},
   "outputs": [],
   "source": [
    "X= np.array([[0,0],[0,1],[1,0],[1,1]])\n",
    "Y= np.array([0,1,1,0])"
   ]
  },
  {
   "cell_type": "code",
   "execution_count": 43,
   "id": "f25e4fd4",
   "metadata": {},
   "outputs": [
    {
     "data": {
      "text/plain": [
       "array([1, 1, 1, 1])"
      ]
     },
     "execution_count": 43,
     "metadata": {},
     "output_type": "execute_result"
    }
   ],
   "source": [
    "clf = MLPClassifier(hidden_layer_sizes=(2, ),activation='logistic',max_iter=1000)\n",
    "clf.fit(X,Y)\n",
    "clf.predict(X)"
   ]
  },
  {
   "cell_type": "code",
   "execution_count": 27,
   "id": "d0266eb9",
   "metadata": {},
   "outputs": [
    {
     "data": {
      "text/plain": [
       "[array([[ 0.84030236, -1.03042591],\n",
       "        [ 0.66424494,  0.52957186]]),\n",
       " array([[1.40123855],\n",
       "        [1.10137999]])]"
      ]
     },
     "execution_count": 27,
     "metadata": {},
     "output_type": "execute_result"
    }
   ],
   "source": [
    "clf.coefs_"
   ]
  },
  {
   "cell_type": "code",
   "execution_count": null,
   "id": "a43250e2",
   "metadata": {},
   "outputs": [],
   "source": []
  }
 ],
 "metadata": {
  "kernelspec": {
   "display_name": "Python 3 (ipykernel)",
   "language": "python",
   "name": "python3"
  },
  "language_info": {
   "codemirror_mode": {
    "name": "ipython",
    "version": 3
   },
   "file_extension": ".py",
   "mimetype": "text/x-python",
   "name": "python",
   "nbconvert_exporter": "python",
   "pygments_lexer": "ipython3",
   "version": "3.9.12"
  }
 },
 "nbformat": 4,
 "nbformat_minor": 5
}
