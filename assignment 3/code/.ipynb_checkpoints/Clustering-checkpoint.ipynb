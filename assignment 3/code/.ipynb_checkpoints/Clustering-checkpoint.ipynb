{
 "cells": [
  {
   "cell_type": "code",
   "execution_count": 3,
   "id": "6dc8b37a",
   "metadata": {},
   "outputs": [],
   "source": [
    "import pandas as pd\n",
    "import numpy as np\n",
    "from sklearn.preprocessing import StandardScaler\n",
    "from sklearn.pipeline import Pipeline\n",
    "from sklearn.cluster import KMeans as kmeans\n",
    "from sklearn.mixture import GaussianMixture as GMM\n",
    "from collections import defaultdict\n",
    "from sklearn.metrics import adjusted_mutual_info_score as ami\n",
    "from sklearn.metrics import homogeneity_score, completeness_score, silhouette_score\n",
    "from sklearn.neural_network import MLPClassifier\n",
    "from sklearn.model_selection import GridSearchCV\n",
    "from sklearn import preprocessing\n",
    "from sklearn.decomposition import PCA\n",
    "from sklearn.decomposition import FastICA\n",
    "from sklearn.random_projection import SparseRandomProjection\n",
    "from itertools import product\n",
    "from sklearn.ensemble import RandomForestClassifier\n",
    "import matplotlib.pyplot as plt"
   ]
  },
  {
   "cell_type": "code",
   "execution_count": 4,
   "id": "117e9173",
   "metadata": {},
   "outputs": [],
   "source": [
    "from tqdm import tqdm\n",
    "plt.style.use('seaborn-darkgrid')\n",
    "%matplotlib inline\n",
    "import warnings\n",
    "warnings.filterwarnings(\"ignore\")"
   ]
  },
  {
   "cell_type": "code",
   "execution_count": 5,
   "id": "28a67b00",
   "metadata": {},
   "outputs": [],
   "source": [
    "# Scaling\n",
    "from sklearn.preprocessing import RobustScaler, StandardScaler\n",
    "\n",
    "# Train Test Split\n",
    "from sklearn.model_selection import train_test_split\n",
    "from sklearn.model_selection import learning_curve\n",
    "\n",
    "# Metrics\n",
    "from sklearn.metrics import accuracy_score, classification_report, roc_curve,confusion_matrix\n",
    "\n",
    "# Cross Validation\n",
    "from sklearn.model_selection import cross_val_score\n",
    "from sklearn.model_selection import GridSearchCV\n",
    "\n",
    "from sklearn.metrics import log_loss, classification_report\n",
    "from sklearn.model_selection import train_test_split"
   ]
  },
  {
   "cell_type": "code",
   "execution_count": 6,
   "id": "d8248bf2",
   "metadata": {},
   "outputs": [
    {
     "data": {
      "text/plain": [
       "True"
      ]
     },
     "execution_count": 6,
     "metadata": {},
     "output_type": "execute_result"
    }
   ],
   "source": [
    "import os\n",
    "save_folder = \"../figures/clustering/\"\n",
    "os.path.isdir(save_folder)"
   ]
  },
  {
   "cell_type": "markdown",
   "id": "656c7c8b",
   "metadata": {},
   "source": [
    "## Prepare the dataset : Heart Disease"
   ]
  },
  {
   "cell_type": "code",
   "execution_count": 8,
   "id": "3a37795e",
   "metadata": {},
   "outputs": [],
   "source": [
    "filename = '../datasets/heart.csv'\n",
    "df = pd.read_csv(filename)"
   ]
  },
  {
   "cell_type": "code",
   "execution_count": 9,
   "id": "78266001",
   "metadata": {},
   "outputs": [],
   "source": [
    "# creating a copy of df\n",
    "df1_copy = df\n",
    "\n",
    "# define the columns to be encoded and scaled (defined before)\n",
    "categorial_features = ['sex','exng','caa','cp','fbs','restecg','slp','thall']\n",
    "continuous_features = [\"age\",\"trtbps\",\"chol\",\"thalachh\",\"oldpeak\"]\n",
    "\n",
    "# encoding the categorical columns (one hot encoding)\n",
    "df1_copy = pd.get_dummies(df1_copy, columns = categorial_features, drop_first = True)\n",
    "\n",
    "# seperate features with target\n",
    "X = df1_copy.drop(['output'],axis=1)\n",
    "y = df1_copy[['output']]\n",
    "# instantiating the scaler\n",
    "scaler = RobustScaler()\n",
    "# scaler = StandardScaler()\n",
    "\n",
    "# scaling the continuous featuree\n",
    "X[continuous_features] = scaler.fit_transform(X[continuous_features])"
   ]
  },
  {
   "cell_type": "code",
   "execution_count": 10,
   "id": "43a9501d",
   "metadata": {},
   "outputs": [
    {
     "name": "stdout",
     "output_type": "stream",
     "text": [
      "The shape of X_train is       (227, 22)\n",
      "The shape of X_test is        (76, 22)\n",
      "The shape of y_train is       (227,)\n",
      "The shape of y_test is        (76,)\n"
     ]
    }
   ],
   "source": [
    "#separate data for testing and training \n",
    "X_train, X_test, y_train, y_test = train_test_split(X,y, test_size = 0.25, random_state = 0)\n",
    "y_train = y_train.squeeze(1)\n",
    "y_test = y_test.squeeze(1)\n",
    "print(\"The shape of X_train is      \", X_train.shape)\n",
    "print(\"The shape of X_test is       \",X_test.shape)\n",
    "print(\"The shape of y_train is      \",y_train.shape)\n",
    "print(\"The shape of y_test is       \",y_test.shape)"
   ]
  },
  {
   "cell_type": "code",
   "execution_count": 11,
   "id": "51984a8d",
   "metadata": {},
   "outputs": [
    {
     "name": "stdout",
     "output_type": "stream",
     "text": [
      "[[-2.51851852e-01 -6.08333333e-02  6.23359580e-02  2.85384615e-01\n",
      "  -2.61979167e-01  5.66666667e-01  1.50000000e-01  1.75000000e-01\n",
      "   6.66666667e-02  2.50000000e-02  1.66666667e-02  2.50000000e-01\n",
      "   3.83333333e-01  6.66666667e-02  1.08333333e-01  5.66666667e-01\n",
      "   2.77555756e-17  1.25000000e-01  8.33333333e-01  1.66666667e-02\n",
      "   7.83333333e-01  1.91666667e-01]\n",
      " [ 2.52682589e-01  2.43457944e-01  1.85885643e-01 -5.52695902e-01\n",
      "   7.12616822e-01  7.85046729e-01  5.60747664e-01  2.24299065e-01\n",
      "   2.05607477e-01  1.12149533e-01  1.86915888e-02  3.73831776e-02\n",
      "   1.68224299e-01  1.02803738e-01  2.05607477e-01  4.01869159e-01\n",
      "   3.73831776e-02  8.22429907e-01  7.47663551e-02  1.30841121e-01\n",
      "   2.71028037e-01  5.88785047e-01]]\n"
     ]
    }
   ],
   "source": [
    "# create kmeans object\n",
    "km = kmeans(n_clusters=2)\n",
    "# fit kmeans object to data\n",
    "km.fit(X_train)\n",
    "# print location of clusters learned by kmeans object\n",
    "print(km.cluster_centers_)\n",
    "# save new clusters for chart\n",
    "y_km = km.fit_predict(X_test)"
   ]
  },
  {
   "cell_type": "code",
   "execution_count": null,
   "id": "53931e67",
   "metadata": {},
   "outputs": [],
   "source": []
  }
 ],
 "metadata": {
  "kernelspec": {
   "display_name": "Python 3 (ipykernel)",
   "language": "python",
   "name": "python3"
  },
  "language_info": {
   "codemirror_mode": {
    "name": "ipython",
    "version": 3
   },
   "file_extension": ".py",
   "mimetype": "text/x-python",
   "name": "python",
   "nbconvert_exporter": "python",
   "pygments_lexer": "ipython3",
   "version": "3.9.12"
  }
 },
 "nbformat": 4,
 "nbformat_minor": 5
}
